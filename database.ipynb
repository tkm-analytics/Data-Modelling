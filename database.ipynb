{
 "cells": [
  {
   "cell_type": "code",
   "execution_count": 9,
   "id": "6f63c52b-da94-475b-b307-d32381db7b87",
   "metadata": {},
   "outputs": [
    {
     "name": "stdout",
     "output_type": "stream",
     "text": [
      "Requirement already satisfied: psycopg2-binary in ./venv/lib/python3.11/site-packages (2.9.9)\n",
      "\n",
      "\u001b[1m[\u001b[0m\u001b[34;49mnotice\u001b[0m\u001b[1;39;49m]\u001b[0m\u001b[39;49m A new release of pip is available: \u001b[0m\u001b[31;49m23.1.2\u001b[0m\u001b[39;49m -> \u001b[0m\u001b[32;49m24.0\u001b[0m\n",
      "\u001b[1m[\u001b[0m\u001b[34;49mnotice\u001b[0m\u001b[1;39;49m]\u001b[0m\u001b[39;49m To update, run: \u001b[0m\u001b[32;49mpip install --upgrade pip\u001b[0m\n"
     ]
    }
   ],
   "source": [
    "   !pip install psycopg2-binary"
   ]
  },
  {
   "cell_type": "markdown",
   "id": "2562c4b5-b6f7-402e-8d18-d2c4feb41cb9",
   "metadata": {},
   "source": [
    "### Import the library ###"
   ]
  },
  {
   "cell_type": "code",
   "execution_count": 10,
   "id": "d9f8b74a-3dd0-4c83-9892-c5b34898916d",
   "metadata": {},
   "outputs": [],
   "source": [
    "import psycopg2"
   ]
  },
  {
   "cell_type": "markdown",
   "id": "2eff0290-2cbb-4d32-9093-cfe028cd3117",
   "metadata": {},
   "source": [
    "### *Connect to the database* ###"
   ]
  },
  {
   "cell_type": "code",
   "execution_count": 11,
   "id": "9da5e420-3f94-4664-aab5-12dd6cfae089",
   "metadata": {},
   "outputs": [],
   "source": [
    "try:\n",
    "    conn = psycopg2.connect(\"host=127.0.0.1 dbname=postgres user=postgres password=MKloves@99\")\n",
    "except psycopg2.Error as e:\n",
    "    print(\"Error: Could not make connection to the Postgres database\")\n",
    "    print(e)"
   ]
  },
  {
   "cell_type": "markdown",
   "id": "aef2d288-abce-45a1-81d3-8c680c44bea2",
   "metadata": {},
   "source": [
    "### Using the connection, get a cursor to run queries ###"
   ]
  },
  {
   "cell_type": "code",
   "execution_count": 13,
   "id": "3632cf2a-0ab1-4ed6-a535-3174bce8ce1b",
   "metadata": {},
   "outputs": [],
   "source": [
    "try:\n",
    "    cur = conn.cursor()\n",
    "except psycopg2.Error as e:\n",
    "    print(\"Error: Could not get cursor to DB\")\n",
    "    print(e)"
   ]
  },
  {
   "cell_type": "markdown",
   "id": "dee5ca55-74cf-4eda-87ce-580bc84d94fd",
   "metadata": {},
   "source": [
    "### Set autocommit ###"
   ]
  },
  {
   "cell_type": "code",
   "execution_count": 15,
   "id": "ed734f00-c829-4bcc-ad5b-27ab3253ad7f",
   "metadata": {},
   "outputs": [],
   "source": [
    "conn.set_session(autocommit=True)"
   ]
  },
  {
   "cell_type": "markdown",
   "id": "321a6b22-61a6-4848-a5fd-b3b40c07fa8d",
   "metadata": {},
   "source": [
    "### Create Database ###"
   ]
  },
  {
   "cell_type": "code",
   "execution_count": 20,
   "id": "3275e2be-c89d-4e60-9929-c4f9b8c78ee0",
   "metadata": {},
   "outputs": [
    {
     "name": "stdout",
     "output_type": "stream",
     "text": [
      "database \"datamodelling_02\" already exists\n",
      "\n"
     ]
    }
   ],
   "source": [
    "try:\n",
    "    cur.execute(\"create database datamodelling_02\")\n",
    "except psycopg2.Error as e:\n",
    "    print(e)\n",
    "    "
   ]
  },
  {
   "cell_type": "markdown",
   "id": "207bba8b-a8f5-4fd6-ad94-d5c2a5d20c72",
   "metadata": {},
   "source": [
    "### Connect to the created database ###"
   ]
  },
  {
   "cell_type": "code",
   "execution_count": 35,
   "id": "4e2c4fbb-a98c-47c8-b515-18fce4200537",
   "metadata": {},
   "outputs": [],
   "source": [
    "try:\n",
    "    conn.close()\n",
    "except psycopg.Error as e:\n",
    "    print(e)\n",
    "\n",
    "try:\n",
    "    conn = psycopg2.connect(\"host=127.0.0.1 dbname = datamodelling_01 user=joyboy password=123456\")\n",
    "except psycopg2.Error as e:\n",
    "    print(e)\n",
    "\n",
    "try:\n",
    "    cur = conn.cursor()\n",
    "except psycopg2.Error as e:\n",
    "    print(e)\n",
    "\n",
    "conn.set_session(autocommit=True)\n",
    "\n",
    "    "
   ]
  },
  {
   "cell_type": "markdown",
   "id": "5191e9b3-a31d-47d6-a12f-dc65e6dd6f4e",
   "metadata": {},
   "source": [
    "### Create table using the walmart sales csv from kaggle ###"
   ]
  },
  {
   "cell_type": "code",
   "execution_count": 39,
   "id": "81886e67-5fd2-4ea4-84ff-bac78d3e8f59",
   "metadata": {},
   "outputs": [
    {
     "name": "stdout",
     "output_type": "stream",
     "text": [
      "Collecting pandas\n",
      "  Using cached pandas-2.2.2-cp311-cp311-macosx_11_0_arm64.whl (11.3 MB)\n",
      "Collecting numpy>=1.23.2 (from pandas)\n",
      "  Using cached numpy-1.26.4-cp311-cp311-macosx_11_0_arm64.whl (14.0 MB)\n",
      "Requirement already satisfied: python-dateutil>=2.8.2 in ./venv/lib/python3.11/site-packages (from pandas) (2.9.0.post0)\n",
      "Collecting pytz>=2020.1 (from pandas)\n",
      "  Using cached pytz-2024.1-py2.py3-none-any.whl (505 kB)\n",
      "Collecting tzdata>=2022.7 (from pandas)\n",
      "  Using cached tzdata-2024.1-py2.py3-none-any.whl (345 kB)\n",
      "Requirement already satisfied: six>=1.5 in ./venv/lib/python3.11/site-packages (from python-dateutil>=2.8.2->pandas) (1.16.0)\n",
      "Installing collected packages: pytz, tzdata, numpy, pandas\n",
      "Successfully installed numpy-1.26.4 pandas-2.2.2 pytz-2024.1 tzdata-2024.1\n",
      "\n",
      "\u001b[1m[\u001b[0m\u001b[34;49mnotice\u001b[0m\u001b[1;39;49m]\u001b[0m\u001b[39;49m A new release of pip is available: \u001b[0m\u001b[31;49m23.1.2\u001b[0m\u001b[39;49m -> \u001b[0m\u001b[32;49m24.0\u001b[0m\n",
      "\u001b[1m[\u001b[0m\u001b[34;49mnotice\u001b[0m\u001b[1;39;49m]\u001b[0m\u001b[39;49m To update, run: \u001b[0m\u001b[32;49mpip install --upgrade pip\u001b[0m\n",
      "Note: you may need to restart the kernel to use updated packages.\n"
     ]
    }
   ],
   "source": [
    "pip install pandas\n"
   ]
  },
  {
   "cell_type": "code",
   "execution_count": 46,
   "id": "760efe51-5f09-41d2-96e1-3adbb2bed2c0",
   "metadata": {},
   "outputs": [
    {
     "name": "stdout",
     "output_type": "stream",
     "text": [
      "      Store        Date  Weekly_Sales  Holiday_Flag  Temperature  Fuel_Price  \\\n",
      "0         1  05-02-2010    1643690.90             0        42.31       2.572   \n",
      "1         1  12-02-2010    1641957.44             1        38.51       2.548   \n",
      "2         1  19-02-2010    1611968.17             0        39.93       2.514   \n",
      "3         1  26-02-2010    1409727.59             0        46.63       2.561   \n",
      "4         1  05-03-2010    1554806.68             0        46.50       2.625   \n",
      "...     ...         ...           ...           ...          ...         ...   \n",
      "6430     45  28-09-2012     713173.95             0        64.88       3.997   \n",
      "6431     45  05-10-2012     733455.07             0        64.89       3.985   \n",
      "6432     45  12-10-2012     734464.36             0        54.47       4.000   \n",
      "6433     45  19-10-2012     718125.53             0        56.47       3.969   \n",
      "6434     45  26-10-2012     760281.43             0        58.85       3.882   \n",
      "\n",
      "             CPI  Unemployment  \n",
      "0     211.096358         8.106  \n",
      "1     211.242170         8.106  \n",
      "2     211.289143         8.106  \n",
      "3     211.319643         8.106  \n",
      "4     211.350143         8.106  \n",
      "...          ...           ...  \n",
      "6430  192.013558         8.684  \n",
      "6431  192.170412         8.667  \n",
      "6432  192.327265         8.667  \n",
      "6433  192.330854         8.667  \n",
      "6434  192.308899         8.667  \n",
      "\n",
      "[6435 rows x 8 columns]\n"
     ]
    }
   ],
   "source": [
    "import pandas as pd\n",
    "\n",
    "# Read the CSV file into a DataFrame\n",
    "df = pd.read_csv('Walmart_sales.csv')\n",
    "\n",
    "# Infer the schema from the DataFrame\n",
    "column_types = {col: df[col].dtype for col in df.columns}\n",
    "\n",
    "\n",
    "print(df)\n",
    "   "
   ]
  },
  {
   "cell_type": "code",
   "execution_count": 49,
   "id": "73e6d7ba-ab15-443b-81ed-f17c79fe6461",
   "metadata": {},
   "outputs": [
    {
     "name": "stdout",
     "output_type": "stream",
     "text": [
      "permission denied for schema public\n",
      "LINE 1: CREATE TABLE IF NOT EXISTS your_table_name (Store int,Date v...\n",
      "                                   ^\n",
      "\n"
     ]
    }
   ],
   "source": [
    "   create_table_query = \"CREATE TABLE IF NOT EXISTS your_table_name (\"\n",
    "   for col, col_type in column_types.items():\n",
    "       if 'int' in str(col_type):\n",
    "           create_table_query += f\"{col} int,\"\n",
    "       elif 'float' in str(col_type):\n",
    "           create_table_query += f\"{col} float,\"\n",
    "       else:\n",
    "           create_table_query += f\"{col} varchar,\"\n",
    "   create_table_query = create_table_query[:-1] + \");\"\n",
    "\n",
    "   try:\n",
    "       cur.execute(create_table_query)\n",
    "       conn.commit()\n",
    "       print(\"Table created successfully.\")\n",
    "   except psycopg2.Error as e:\n",
    "       print(e)\n",
    "   "
   ]
  },
  {
   "cell_type": "code",
   "execution_count": 65,
   "id": "0c2971ef-b506-4153-973b-4e9f7fd82ce7",
   "metadata": {},
   "outputs": [
    {
     "name": "stdout",
     "output_type": "stream",
     "text": [
      "Table created successfully.\n"
     ]
    }
   ],
   "source": [
    "import psycopg2\n",
    "import pandas as pd\n",
    "\n",
    "# Establish a connection to the database\n",
    "conn = psycopg2.connect(\n",
    "    dbname=\"datamodelling_01\",\n",
    "    user=\"joyboy_01\",\n",
    "    password=\"123456\",\n",
    "    host=\"localhost\",\n",
    "    port=\"5432\"\n",
    ")\n",
    "\n",
    "# Create a cursor object\n",
    "cur = conn.cursor()\n",
    "\n",
    "# Read the CSV file into a DataFrame\n",
    "df = pd.read_csv('Walmart_sales.csv')\n",
    "\n",
    "# Infer the schema from the DataFrame\n",
    "column_types = {col: str(df[col].dtype) for col in df.columns}\n",
    "\n",
    "# Create the CREATE TABLE query with the schema specified\n",
    "\n",
    "cur.execute(\"CREATE SCHEMA IF NOT EXISTS data_modelling_01;\")\n",
    "conn.commit()\n",
    "\n",
    "create_table_query = \"CREATE TABLE IF NOT EXISTS data_modelling_01.walmart_sales (\"\n",
    "for col, col_type in column_types.items():\n",
    "    if 'int' in col_type:\n",
    "        create_table_query += f\"{col} int,\"\n",
    "    elif 'float' in col_type:\n",
    "        create_table_query += f\"{col} float,\"\n",
    "    else:\n",
    "        create_table_query += f\"{col} varchar,\"\n",
    "create_table_query = create_table_query[:-1] + \");\"\n",
    "\n",
    "try:\n",
    "    cur.execute(create_table_query)\n",
    "    conn.commit()\n",
    "    print(\"Table created successfully.\")\n",
    "except psycopg2.Error as e:\n",
    "    print(e)\n",
    "\n",
    "Close the cursor and connection\n",
    "cur.close()\n",
    "conn.close()\n"
   ]
  }
 ],
 "metadata": {
  "kernelspec": {
   "display_name": "Python 3 (ipykernel)",
   "language": "python",
   "name": "python3"
  },
  "language_info": {
   "codemirror_mode": {
    "name": "ipython",
    "version": 3
   },
   "file_extension": ".py",
   "mimetype": "text/x-python",
   "name": "python",
   "nbconvert_exporter": "python",
   "pygments_lexer": "ipython3",
   "version": "3.11.4"
  }
 },
 "nbformat": 4,
 "nbformat_minor": 5
}
